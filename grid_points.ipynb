{
 "cells": [
  {
   "cell_type": "code",
   "execution_count": 1,
   "id": "33d51261-0e95-4542-8d14-d61ee1fafe21",
   "metadata": {},
   "outputs": [],
   "source": [
    "import matplotlib.pyplot as plt\n",
    "import pandas as pd\n",
    "import numpy as np\n",
    "import pyproj\n",
    "from shapely.geometry import Point, Polygon\n",
    "\n",
    "def create_grid(bottom_left, top_right, resolution):\n",
    "    \"\"\"\n",
    "    Crea una malla geoespacial con una resolución dada, teniendo en cuenta la curvatura de la Tierra.\n",
    "\n",
    "    :param bottom_left: tupla con las coordenadas del punto inferior izquierdo (latitud, longitud)\n",
    "    :param top_right: tupla con las coordenadas del punto superior derecho (latitud, longitud)\n",
    "    :param resolution: resolución de la malla en metros\n",
    "    :return: dataframe que representa los puntos de la malla\n",
    "    \"\"\"\n",
    "\n",
    "    # Definir la proyección de Mercator\n",
    "    proj = pyproj.Proj(proj='merc')\n",
    "\n",
    "    # Convertir las coordenadas geográficas en coordenadas cartesianas\n",
    "    x1, y1 = proj(bottom_left[1], bottom_left[0])\n",
    "    x2, y2 = proj(top_right[1], top_right[0])\n",
    "\n",
    "    # Calcular la distancia en metros entre los puntos en la proyección de Mercator\n",
    "    x_distance = x2 - x1\n",
    "    y_distance = y2 - y1\n",
    "\n",
    "    # Calcular el número de puntos en la malla en función de la resolución dada\n",
    "    num_points_x = int(x_distance / resolution)\n",
    "    num_points_y = int(y_distance / resolution)\n",
    "\n",
    "    # Crear una matriz de coordenadas con la resolución dada en la proyección de Mercator\n",
    "    x_coords = np.linspace(x1, x2, num_points_x)\n",
    "    y_coords = np.linspace(y1, y2, num_points_y)\n",
    "    coords = np.meshgrid(x_coords, y_coords)\n",
    "    coords = np.dstack(coords).reshape(-1, 2)\n",
    "\n",
    "    # Convertir las coordenadas cartesianas a coordenadas geográficas\n",
    "    lon, lat = proj(coords[:,0], coords[:,1], inverse=True)\n",
    "\n",
    "    # Crear un dataframe de pandas con las columnas 'Latitude' y 'Longitude' a partir de las coordenadas\n",
    "    df = pd.DataFrame({'Latitude': lat, 'Longitude': lon})\n",
    "\n",
    "    # Crear una geometría poligonal que encierra todos los puntos\n",
    "    boundary = Polygon([(bottom_left[1], bottom_left[0]), (bottom_left[1], top_right[0]),\n",
    "                        (top_right[1], top_right[0]), (top_right[1], bottom_left[0])])\n",
    "\n",
    "    # Seleccionar solo los puntos que están dentro del polígono definido\n",
    "    df = df[df.apply(lambda row: boundary.contains(Point(row.Longitude, row.Latitude)), axis=1)]\n",
    "\n",
    "    return df"
   ]
  },
  {
   "cell_type": "code",
   "execution_count": 2,
   "id": "b1389c62-5891-4820-a883-56f660d7affb",
   "metadata": {},
   "outputs": [
    {
     "name": "stdout",
     "output_type": "stream",
     "text": [
      "16564\n"
     ]
    },
    {
     "data": {
      "text/html": [
       "<div>\n",
       "<style scoped>\n",
       "    .dataframe tbody tr th:only-of-type {\n",
       "        vertical-align: middle;\n",
       "    }\n",
       "\n",
       "    .dataframe tbody tr th {\n",
       "        vertical-align: top;\n",
       "    }\n",
       "\n",
       "    .dataframe thead th {\n",
       "        text-align: right;\n",
       "    }\n",
       "</style>\n",
       "<table border=\"1\" class=\"dataframe\">\n",
       "  <thead>\n",
       "    <tr style=\"text-align: right;\">\n",
       "      <th></th>\n",
       "      <th>Latitude</th>\n",
       "      <th>Longitude</th>\n",
       "    </tr>\n",
       "  </thead>\n",
       "  <tbody>\n",
       "    <tr>\n",
       "      <th>1</th>\n",
       "      <td>3.571</td>\n",
       "      <td>-74.628902</td>\n",
       "    </tr>\n",
       "    <tr>\n",
       "      <th>2</th>\n",
       "      <td>3.571</td>\n",
       "      <td>-74.619804</td>\n",
       "    </tr>\n",
       "    <tr>\n",
       "      <th>3</th>\n",
       "      <td>3.571</td>\n",
       "      <td>-74.610706</td>\n",
       "    </tr>\n",
       "    <tr>\n",
       "      <th>4</th>\n",
       "      <td>3.571</td>\n",
       "      <td>-74.601608</td>\n",
       "    </tr>\n",
       "    <tr>\n",
       "      <th>5</th>\n",
       "      <td>3.571</td>\n",
       "      <td>-74.592510</td>\n",
       "    </tr>\n",
       "    <tr>\n",
       "      <th>6</th>\n",
       "      <td>3.571</td>\n",
       "      <td>-74.583412</td>\n",
       "    </tr>\n",
       "    <tr>\n",
       "      <th>7</th>\n",
       "      <td>3.571</td>\n",
       "      <td>-74.574314</td>\n",
       "    </tr>\n",
       "    <tr>\n",
       "      <th>8</th>\n",
       "      <td>3.571</td>\n",
       "      <td>-74.565216</td>\n",
       "    </tr>\n",
       "    <tr>\n",
       "      <th>9</th>\n",
       "      <td>3.571</td>\n",
       "      <td>-74.556118</td>\n",
       "    </tr>\n",
       "    <tr>\n",
       "      <th>10</th>\n",
       "      <td>3.571</td>\n",
       "      <td>-74.547020</td>\n",
       "    </tr>\n",
       "  </tbody>\n",
       "</table>\n",
       "</div>"
      ],
      "text/plain": [
       "    Latitude  Longitude\n",
       "1      3.571 -74.628902\n",
       "2      3.571 -74.619804\n",
       "3      3.571 -74.610706\n",
       "4      3.571 -74.601608\n",
       "5      3.571 -74.592510\n",
       "6      3.571 -74.583412\n",
       "7      3.571 -74.574314\n",
       "8      3.571 -74.565216\n",
       "9      3.571 -74.556118\n",
       "10     3.571 -74.547020"
      ]
     },
     "execution_count": 2,
     "metadata": {},
     "output_type": "execute_result"
    }
   ],
   "source": [
    "bott_left = [3.571, -74.638]\n",
    "top_right = [5.057, -73.710]\n",
    "res = 1000 #[m]\n",
    "\n",
    "df = create_grid(bott_left, top_right, res)\n",
    "print(len(df['Latitude'].tolist()))\n",
    "df.head(10)"
   ]
  },
  {
   "cell_type": "code",
   "execution_count": 3,
   "id": "1b436251-571b-4299-99ed-240da2112856",
   "metadata": {},
   "outputs": [
    {
     "data": {
      "text/plain": [
       "(-74.67439215686275, -73.67360784313723, 3.496700000000001, 5.131299999999999)"
      ]
     },
     "execution_count": 3,
     "metadata": {},
     "output_type": "execute_result"
    },
    {
     "data": {
      "image/png": "[encoded data removed]",
      "text/plain": [
       "<Figure size 640x480 with 1 Axes>"
      ]
     },
     "metadata": {},
     "output_type": "display_data"
    }
   ],
   "source": [
    "plt.scatter(df['Longitude'], df['Latitude'])\n",
    "plt.axis('equal')"
   ]
  },
  {
   "cell_type": "code",
   "execution_count": 6,
   "id": "15556072-8481-4a1d-bc04-a47194cc74a2",
   "metadata": {},
   "outputs": [],
   "source": [
    "df.to_csv('malla_res_1km.csv', index=False)"
   ]
  },
  {
   "cell_type": "code",
   "execution_count": null,
   "id": "2aba135e-e9d0-461e-8515-404917f0fc97",
   "metadata": {},
   "outputs": [],
   "source": []
  }
 ],
 "metadata": {
  "kernelspec": {
   "display_name": "Python 3 (ipykernel)",
   "language": "python",
   "name": "python3"
  },
  "language_info": {
   "codemirror_mode": {
    "name": "ipython",
    "version": 3
   },
   "file_extension": ".py",
   "mimetype": "text/x-python",
   "name": "python",
   "nbconvert_exporter": "python",
   "pygments_lexer": "ipython3",
   "version": "3.7.15"
  }
 },
 "nbformat": 4,
 "nbformat_minor": 5
}
