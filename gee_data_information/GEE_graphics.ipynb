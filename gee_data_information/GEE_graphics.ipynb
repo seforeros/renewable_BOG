{
 "cells": [
  {
   "cell_type": "markdown",
   "id": "47bea4c2-eac0-4db7-8f5a-082d0e93e007",
   "metadata": {},
   "source": [
    "## Inicializar los paquetes de Google Earth Engine (GEE)\n",
    "\n",
    "Iniciando sesión con la cuenta previamente creada y obteniendo el código de permiso para el uso del API"
   ]
  },
  {
   "cell_type": "code",
   "execution_count": 1,
   "id": "1d293f95-0ced-45fc-a8aa-e36f56cf089f",
   "metadata": {
    "tags": []
   },
   "outputs": [
    {
     "data": {
      "text/html": [
       "<p>To authorize access needed by Earth Engine, open the following\n",
       "        URL in a web browser and follow the instructions:</p>\n",
       "        <p><a href=https://code.earthengine.google.com/client-auth?scopes=https%3A//www.googleapis.com/auth/earthengine%20https%3A//www.googleapis.com/auth/devstorage.full_control&request_id=Fn3AA-hIyHfS83e27d38W5xpA_gJnb-fsnVqV_eddrk&tc=Yjd47yRw4ogyDPcDu9nie8dLttadwZwFGH9fI1a07U8&cc=bbclKdaz2BIB7GhpuiJPm4Fcg6P8svemtveEe26_y5g>https://code.earthengine.google.com/client-auth?scopes=https%3A//www.googleapis.com/auth/earthengine%20https%3A//www.googleapis.com/auth/devstorage.full_control&request_id=Fn3AA-hIyHfS83e27d38W5xpA_gJnb-fsnVqV_eddrk&tc=Yjd47yRw4ogyDPcDu9nie8dLttadwZwFGH9fI1a07U8&cc=bbclKdaz2BIB7GhpuiJPm4Fcg6P8svemtveEe26_y5g</a></p>\n",
       "        <p>The authorization workflow will generate a code, which you should paste in the box below.</p>\n",
       "        "
      ],
      "text/plain": [
       "<IPython.core.display.HTML object>"
      ]
     },
     "metadata": {},
     "output_type": "display_data"
    },
    {
     "name": "stdout",
     "output_type": "stream",
     "text": [
      "Enter verification code: 4/1AVHEtk7la6YL5MsiiI9re-UeKUD_UX7JjE9EX4QI9Pe1ULK6RG2xXK1RkGU\n",
      "\n",
      "Successfully saved authorization token.\n"
     ]
    }
   ],
   "source": [
    "import ee\n",
    "import geemap\n",
    "from ipyleaflet import GeoJSON\n",
    "from plot_map_gral import *\n",
    "\n",
    "ee.Authenticate()\n",
    "ee.Initialize()"
   ]
  },
  {
   "cell_type": "markdown",
   "id": "b4c4c685-4023-4e98-950b-570077449371",
   "metadata": {},
   "source": [
    "## Obtener el polígono geojson\n",
    "\n",
    "Teniendo en cuenta el área de interés a 20km a la redonda de Bogotá se establece un rectángulo que va a contener los datos satelitales"
   ]
  },
  {
   "cell_type": "code",
   "execution_count": 4,
   "id": "94e6875d-5edc-4655-8b75-eff8d569bd62",
   "metadata": {},
   "outputs": [],
   "source": [
    "import numpy as np\n",
    "lat_max = 5.057\n",
    "lat_min = 3.571\n",
    "lon_max = -74.638\n",
    "lon_min = -73.710\n",
    "\n",
    "region = ee.Geometry.Rectangle(lon_max, lat_min, lon_min, lat_max)"
   ]
  },
  {
   "cell_type": "markdown",
   "id": "9919e0f5-b6b1-432a-a6a0-77415ad9f978",
   "metadata": {},
   "source": [
    "## Conseguir los archivos .shp del mapa de Bogotá\n",
    "\n",
    "Estos archivos fueron cargados previamente en la nube de GEE para su posterior tratamiento"
   ]
  },
  {
   "cell_type": "code",
   "execution_count": 5,
   "id": "309ac31d-42dd-400f-909f-2130ef10fad9",
   "metadata": {
    "tags": []
   },
   "outputs": [
    {
     "data": {
      "application/vnd.jupyter.widget-view+json": {
       "model_id": "3ea5d391ec494dd48e94ae0e091c79ea",
       "version_major": 2,
       "version_minor": 0
      },
      "text/plain": [
       "Map(center=[4.3, -74.2], controls=(WidgetControl(options=['position', 'transparent_bg'], widget=HBox(children=…"
      ]
     },
     "execution_count": 5,
     "metadata": {},
     "output_type": "execute_result"
    }
   ],
   "source": [
    "map_IDEAM = geemap.Map()\n",
    "Bogota_IDEAM(region, map_IDEAM)\n",
    "map_IDEAM"
   ]
  },
  {
   "cell_type": "markdown",
   "id": "f82e4930-a972-441f-8800-c87661a3affd",
   "metadata": {},
   "source": [
    "# Datos del catálogo de GEE"
   ]
  },
  {
   "cell_type": "markdown",
   "id": "4f914e2d-6851-4d6a-bb92-2b3439a3be1b",
   "metadata": {},
   "source": [
    "## Fuente 1: Radiación solar\n",
    "Variable: Radiación solar superficial neta \\[J/m2\\]  \n",
    "Resolución: 11132m\n",
    "Datos: [ERA5-Land Monthly Aggregated - ECMWF Climate Reanalysis](https://developers.google.com/earth-engine/datasets/catalog/ECMWF_ERA5_LAND_MONTHLY_AGGR)"
   ]
  },
  {
   "cell_type": "code",
   "execution_count": 6,
   "id": "a14ec9d0",
   "metadata": {},
   "outputs": [
    {
     "data": {
      "application/vnd.jupyter.widget-view+json": {
       "model_id": "b70e99eacd9c4b2b910db0ba6012e4d1",
       "version_major": 2,
       "version_minor": 0
      },
      "text/plain": [
       "Map(center=[4.3, -74.2], controls=(WidgetControl(options=['position', 'transparent_bg'], widget=HBox(children=…"
      ]
     },
     "execution_count": 6,
     "metadata": {},
     "output_type": "execute_result"
    }
   ],
   "source": [
    "ERA5_radiacion = {\n",
    "    'source' : 'ECMWF/ERA5_LAND/MONTHLY_AGGR',\n",
    "    'variable' : 'Radiación solar superficial neta mensual',\n",
    "    'band' : 'surface_net_solar_radiation_sum',\n",
    "    'units' : ' [ J/m2 ]',\n",
    "    'max_value' : 430e6,\n",
    "    'min_value' : 350e6,\n",
    "    'start' : '1990-01-01',\n",
    "    'end' : '2022-12-01'\n",
    "}\n",
    "\n",
    "map_data = geemap.Map()\n",
    "Satellite(ERA5_radiacion, region, map_data)\n",
    "map_data"
   ]
  },
  {
   "cell_type": "markdown",
   "id": "806ff6be-d874-45fb-b629-f7ad40657561",
   "metadata": {},
   "source": [
    "## Fuente 1.2: Velocidad del viento x\n",
    "Variable: Velocidad del viento componente x \\[m/s\\]  \n",
    "Resolución: 11132m\n",
    "Datos: [ERA5-Land Monthly Aggregated - ECMWF Climate Reanalysis](https://developers.google.com/earth-engine/datasets/catalog/ECMWF_ERA5_LAND_MONTHLY_AGGR)"
   ]
  },
  {
   "cell_type": "code",
   "execution_count": 7,
   "id": "04651147-ba8a-4a44-8bf0-a3f030155ab7",
   "metadata": {},
   "outputs": [
    {
     "data": {
      "application/vnd.jupyter.widget-view+json": {
       "model_id": "ddca56612af5419292a41eefa9e1def1",
       "version_major": 2,
       "version_minor": 0
      },
      "text/plain": [
       "Map(center=[4.3, -74.2], controls=(WidgetControl(options=['position', 'transparent_bg'], widget=HBox(children=…"
      ]
     },
     "execution_count": 7,
     "metadata": {},
     "output_type": "execute_result"
    }
   ],
   "source": [
    "ERA5_velu = {\n",
    "    'source' : 'ECMWF/ERA5_LAND/MONTHLY_AGGR',\n",
    "    'variable' : 'Componente x de velocidad',\n",
    "    'band' : 'u_component_of_wind_10m',\n",
    "    'units' : ' [ m/s ]',\n",
    "    'max_value' : -2,\n",
    "    'min_value' : 2,\n",
    "    'start' : '1990-01-01',\n",
    "    'end' : '2022-12-01'\n",
    "}\n",
    "\n",
    "map_data = geemap.Map()\n",
    "Satellite(ERA5_velu, region, map_data)\n",
    "map_data"
   ]
  },
  {
   "cell_type": "markdown",
   "id": "17dbb8fc-ceb5-409f-b4a6-7282408b0aad",
   "metadata": {},
   "source": [
    "## Fuente 1.3: Velocidad del viento y\n",
    "Variable: Velocidad del viento componente y \\[m/s\\]  \n",
    "Resolución: 11132m\n",
    "Datos: [ERA5-Land Monthly Aggregated - ECMWF Climate Reanalysis](https://developers.google.com/earth-engine/datasets/catalog/ECMWF_ERA5_LAND_MONTHLY_AGGR)"
   ]
  },
  {
   "cell_type": "code",
   "execution_count": 8,
   "id": "bae98ecc-c5fc-4ff9-8698-091d700253c8",
   "metadata": {},
   "outputs": [
    {
     "data": {
      "application/vnd.jupyter.widget-view+json": {
       "model_id": "e16057827d874df9a2f61f39ee7e2533",
       "version_major": 2,
       "version_minor": 0
      },
      "text/plain": [
       "Map(center=[4.3, -74.2], controls=(WidgetControl(options=['position', 'transparent_bg'], widget=HBox(children=…"
      ]
     },
     "execution_count": 8,
     "metadata": {},
     "output_type": "execute_result"
    }
   ],
   "source": [
    "ERA5_velv = {\n",
    "    'source' : 'ECMWF/ERA5_LAND/MONTHLY_AGGR',\n",
    "    'variable' : 'Componente y de velocidad',\n",
    "    'band' : 'v_component_of_wind_10m',\n",
    "    'units' : ' [ m/s ]',\n",
    "    'max_value' : -2,\n",
    "    'min_value' : 2,\n",
    "    'start' : '1990-01-01',\n",
    "    'end' : '2022-12-01'\n",
    "}\n",
    "\n",
    "map_data = geemap.Map()\n",
    "Satellite(ERA5_velv, region, map_data)\n",
    "map_data"
   ]
  },
  {
   "cell_type": "markdown",
   "id": "b3bfc875-af86-4d1c-b078-465ec13735ab",
   "metadata": {},
   "source": [
    "## Fuente 2: Velocidad del viento\n",
    "Variable: Velocidad del viento medida a 10m de altura \\[m/s\\] (factor de escala 0.01)  \n",
    "Resolución: 4638.3 m  \n",
    "Datos: [TerraClimate: Monthly Climate and Climatic Water Balance for Global Terrestrial Surfaces, University of Idaho](https://developers.google.com/earth-engine/datasets/catalog/IDAHO_EPSCOR_TERRACLIMATE#bands)"
   ]
  },
  {
   "cell_type": "code",
   "execution_count": 9,
   "id": "453d22f5-30cc-4f30-8882-ef1a6fc5da44",
   "metadata": {},
   "outputs": [
    {
     "data": {
      "application/vnd.jupyter.widget-view+json": {
       "model_id": "5ff610fcad414c1a92aa3a79e0f584bc",
       "version_major": 2,
       "version_minor": 0
      },
      "text/plain": [
       "Map(center=[4.3, -74.2], controls=(WidgetControl(options=['position', 'transparent_bg'], widget=HBox(children=…"
      ]
     },
     "execution_count": 9,
     "metadata": {},
     "output_type": "execute_result"
    }
   ],
   "source": [
    "IDAHO_vel = {\n",
    "    'source' : 'IDAHO_EPSCOR/TERRACLIMATE',\n",
    "    'variable' : 'Velocidad total promedio mensual a 10m',\n",
    "    'band' : 'vs',\n",
    "    'units' : ' [ m/s ]',\n",
    "    'max_value' : 20,\n",
    "    'min_value' : 100,\n",
    "    'start' : '1990-01-01',\n",
    "    'end' : '2022-12-01'\n",
    "}\n",
    "\n",
    "map_data = geemap.Map()\n",
    "Satellite(IDAHO_vel, region, map_data)\n",
    "map_data"
   ]
  },
  {
   "cell_type": "markdown",
   "id": "6e196f1d-05e2-4975-afdd-1e70c2606d1f",
   "metadata": {},
   "source": [
    "## Fuente 3: Potencia de energía fotovoltáica\n",
    "Variable: \n",
    "Resolución: 100 m  \n",
    "Datos: [Fuenteee](https://www.google.com)"
   ]
  },
  {
   "cell_type": "code",
   "execution_count": 10,
   "id": "fe4f7a44-b1bd-4c71-a14a-8d8630f331f8",
   "metadata": {},
   "outputs": [
    {
     "data": {
      "application/vnd.jupyter.widget-view+json": {
       "model_id": "b6ffdb3d775f439b9e6bdc3aaa7d9f0d",
       "version_major": 2,
       "version_minor": 0
      },
      "text/plain": [
       "Map(center=[4.3, -74.2], controls=(WidgetControl(options=['position', 'transparent_bg'], widget=HBox(children=…"
      ]
     },
     "execution_count": 10,
     "metadata": {},
     "output_type": "execute_result"
    }
   ],
   "source": [
    "Solarcast_vel = {\n",
    "    'source' : 'projects/ee-seforeros/assets/PVOUT',\n",
    "    'variable' : 'Potencial de energía fotovoltaica',\n",
    "    'units' : ' [ kWh ]',\n",
    "    'max_value' : 1000,\n",
    "    'min_value' : 2000,\n",
    "    'start' : '2018-03-01',\n",
    "    'end' : '2018-04-01'\n",
    "}\n",
    "\n",
    "map_data = geemap.Map()\n",
    "Image(Solarcast_vel, region, map_data)\n",
    "map_data"
   ]
  }
 ],
 "metadata": {
  "kernelspec": {
   "display_name": "Python 3 (ipykernel)",
   "language": "python",
   "name": "python3"
  },
  "language_info": {
   "codemirror_mode": {
    "name": "ipython",
    "version": 3
   },
   "file_extension": ".py",
   "mimetype": "text/x-python",
   "name": "python",
   "nbconvert_exporter": "python",
   "pygments_lexer": "ipython3",
   "version": "3.7.15"
  }
 },
 "nbformat": 4,
 "nbformat_minor": 5
}
